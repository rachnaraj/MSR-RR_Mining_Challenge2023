{
 "cells": [
  {
   "cell_type": "code",
   "execution_count": 1,
   "id": "4143cec5",
   "metadata": {},
   "outputs": [
    {
     "name": "stdout",
     "output_type": "stream",
     "text": [
      "{'name': 'Jessica Wilkins', 'hobbies': ['music', 'watching TV', 'hanging out with friends']}\n"
     ]
    }
   ],
   "source": [
    "import json\n",
    "# assigns a JSON string to a variable called jess \n",
    "jess = '{\"name\": \"Jessica Wilkins\", \"hobbies\": [\"music\", \"watching TV\", \"hanging out with friends\"]}'\n",
    "\n",
    "# parses the data and assigns it to a variable called jess_dict\n",
    "jess_dict = json.loads(jess)\n",
    "\n",
    "# Printed output: {\"name\": \"Jessica Wilkins\", \"hobbies\": [\"music\", \"watching TV\", \"hanging out with friends\"]}\n",
    "print(jess_dict)"
   ]
  },
  {
   "cell_type": "code",
   "execution_count": 28,
   "id": "87a9232f",
   "metadata": {},
   "outputs": [],
   "source": [
    "import json\n",
    "with open(r\"D:\\Me\\concordia\\Notes\\Prof-Diego\\MSR-DataChallenge\\DevGPT\\snapshot_20230817\\20230817_125147_pr_sharings.json\", 'r') as fcc_file:\n",
    "    pr_data = json.load(fcc_file)\n",
    "#     print(json.dumps(pr_data, indent=4))\n"
   ]
  },
  {
   "cell_type": "code",
   "execution_count": 9,
   "id": "9e49a005",
   "metadata": {},
   "outputs": [],
   "source": [
    "def item_generator(data, key):\n",
    "    if isinstance(data, dict):\n",
    "        for k, v in data.items():\n",
    "            if k == key:\n",
    "                yield v\n",
    "            if isinstance(v, (dict, list)):\n",
    "                yield from item_generator(v, key)\n",
    "    elif isinstance(data, list):\n",
    "        for item in data:\n",
    "            yield from item_generator(item, key)\n"
   ]
  },
  {
   "cell_type": "code",
   "execution_count": 29,
   "id": "34389645",
   "metadata": {},
   "outputs": [],
   "source": [
    "output = []\n",
    "for i in item_generator(pr_data, \"Conversations\"):\n",
    "    ans = {\"Conversations\": i}\n",
    "    output.append(ans)\n",
    "\n",
    "# print(json.dumps(output, indent = 4))"
   ]
  },
  {
   "cell_type": "code",
   "execution_count": 11,
   "id": "f10e6425",
   "metadata": {},
   "outputs": [
    {
     "name": "stdout",
     "output_type": "stream",
     "text": [
      "Data stored successfully!\n"
     ]
    }
   ],
   "source": [
    "# Store the JSON data in a file\n",
    "with open(r\"D:\\Me\\concordia\\Notes\\Prof-Diego\\MSR-DataChallenge\\DevGPT\\snapshot_20230817\\20230817_125147_pr_sharings_extract-conv-R.json\", \"w\") as file:\n",
    "    json.dump(output, file)\n",
    "\n",
    "print(\"Data stored successfully!\")"
   ]
  },
  {
   "cell_type": "code",
   "execution_count": 27,
   "id": "5da631b3",
   "metadata": {},
   "outputs": [
    {
     "ename": "AttributeError",
     "evalue": "'list' object has no attribute 'get'",
     "output_type": "error",
     "traceback": [
      "\u001b[1;31m---------------------------------------------------------------------------\u001b[0m",
      "\u001b[1;31mAttributeError\u001b[0m                            Traceback (most recent call last)",
      "Cell \u001b[1;32mIn[27], line 4\u001b[0m\n\u001b[0;32m      2\u001b[0m total_prompt_count \u001b[38;5;241m=\u001b[39m \u001b[38;5;241m0\u001b[39m\n\u001b[0;32m      3\u001b[0m \u001b[38;5;66;03m# Access the \"Conversations\" key\u001b[39;00m\n\u001b[1;32m----> 4\u001b[0m conversations \u001b[38;5;241m=\u001b[39m output\u001b[38;5;241m.\u001b[39mget(\u001b[38;5;124m\"\u001b[39m\u001b[38;5;124mConversations\u001b[39m\u001b[38;5;124m\"\u001b[39m, [])\n\u001b[0;32m      6\u001b[0m \u001b[38;5;66;03m# Count the occurrences of \"Prompt\"\u001b[39;00m\n\u001b[0;32m      7\u001b[0m total_prompt_count \u001b[38;5;241m=\u001b[39m \u001b[38;5;241m0\u001b[39m\n",
      "\u001b[1;31mAttributeError\u001b[0m: 'list' object has no attribute 'get'"
     ]
    }
   ],
   "source": [
    "# Count the occurrences of \"Prompt\"\n",
    "total_prompt_count = 0\n",
    "# Access the \"Conversations\" key\n",
    "conversations = output.get(\"Conversations\", [])\n",
    "\n",
    "# Count the occurrences of \"Prompt\"\n",
    "total_prompt_count = 0\n",
    "\n",
    "# Iterate through the list of JSON objects\n",
    "for item in conversations:\n",
    "    if \"Prompt\" in item:\n",
    "        total_prompt_count += 1\n",
    "\n",
    "# Print the total count\n",
    "print(\"Total 'Prompt' count:\", total_prompt_count)"
   ]
  },
  {
   "cell_type": "code",
   "execution_count": null,
   "id": "41752061",
   "metadata": {},
   "outputs": [],
   "source": []
  }
 ],
 "metadata": {
  "kernelspec": {
   "display_name": "Python 3 (ipykernel)",
   "language": "python",
   "name": "python3"
  },
  "language_info": {
   "codemirror_mode": {
    "name": "ipython",
    "version": 3
   },
   "file_extension": ".py",
   "mimetype": "text/x-python",
   "name": "python",
   "nbconvert_exporter": "python",
   "pygments_lexer": "ipython3",
   "version": "3.11.4"
  }
 },
 "nbformat": 4,
 "nbformat_minor": 5
}
